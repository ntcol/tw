{
 "cells": [
  {
   "cell_type": "code",
   "execution_count": 1,
   "id": "351961c1-a08b-4b09-bbe9-6039e997ffba",
   "metadata": {},
   "outputs": [],
   "source": [
    "import numpy as np\n",
    "import pandas as pd\n",
    "import matplotlib.pyplot as plt"
   ]
  },
  {
   "cell_type": "code",
   "execution_count": 2,
   "id": "a2e311c0-e555-41ce-ace5-7bb35a9a00a8",
   "metadata": {},
   "outputs": [],
   "source": [
    "tw = pd.read_csv('twitterdata.csv')"
   ]
  },
  {
   "cell_type": "code",
   "execution_count": 3,
   "id": "5762b37d-7e11-4139-aaba-a4887bddb97c",
   "metadata": {},
   "outputs": [
    {
     "data": {
      "text/html": [
       "<div>\n",
       "<style scoped>\n",
       "    .dataframe tbody tr th:only-of-type {\n",
       "        vertical-align: middle;\n",
       "    }\n",
       "\n",
       "    .dataframe tbody tr th {\n",
       "        vertical-align: top;\n",
       "    }\n",
       "\n",
       "    .dataframe thead th {\n",
       "        text-align: right;\n",
       "    }\n",
       "</style>\n",
       "<table border=\"1\" class=\"dataframe\">\n",
       "  <thead>\n",
       "    <tr style=\"text-align: right;\">\n",
       "      <th></th>\n",
       "      <th>id</th>\n",
       "      <th>status</th>\n",
       "      <th>gender</th>\n",
       "      <th>email</th>\n",
       "      <th>age</th>\n",
       "      <th>messages</th>\n",
       "      <th>likes</th>\n",
       "      <th>retweets</th>\n",
       "      <th>name</th>\n",
       "      <th>twitter post</th>\n",
       "    </tr>\n",
       "  </thead>\n",
       "  <tbody>\n",
       "    <tr>\n",
       "      <th>0</th>\n",
       "      <td>f31d9ee9-9c41-4446-abd5-0094d65f5f92</td>\n",
       "      <td>offline</td>\n",
       "      <td>male</td>\n",
       "      <td>int@puband.jp</td>\n",
       "      <td>74</td>\n",
       "      <td>4322</td>\n",
       "      <td>1646</td>\n",
       "      <td>1824</td>\n",
       "      <td>Sult Few</td>\n",
       "      <td>Nomenclature differentiating by Claes Oldenbur...</td>\n",
       "    </tr>\n",
       "    <tr>\n",
       "      <th>1</th>\n",
       "      <td>ffee8acb-f9ff-48dc-9532-c6dc47cfeee8</td>\n",
       "      <td>anonymous</td>\n",
       "      <td>male</td>\n",
       "      <td>isidue429@Islati.ru</td>\n",
       "      <td>17</td>\n",
       "      <td>822</td>\n",
       "      <td>4245</td>\n",
       "      <td>2407</td>\n",
       "      <td>Bies Th</td>\n",
       "      <td>Ada Yonath, critical in forensic investigation...</td>\n",
       "    </tr>\n",
       "    <tr>\n",
       "      <th>2</th>\n",
       "      <td>46fc9083-7442-4887-86ac-5d4f78f1f8b1</td>\n",
       "      <td>anonymous</td>\n",
       "      <td>female</td>\n",
       "      <td>therna@cing.us</td>\n",
       "      <td>69</td>\n",
       "      <td>4010</td>\n",
       "      <td>4038</td>\n",
       "      <td>1109</td>\n",
       "      <td>An Of</td>\n",
       "      <td>Snow fell St. Jean-Baptiste Day ceremony, and ...</td>\n",
       "    </tr>\n",
       "    <tr>\n",
       "      <th>3</th>\n",
       "      <td>771685d0-ba4a-4c3b-abd0-2817ab6f1081</td>\n",
       "      <td>online</td>\n",
       "      <td>female</td>\n",
       "      <td>edrom@upopor.biz</td>\n",
       "      <td>30</td>\n",
       "      <td>976</td>\n",
       "      <td>2838</td>\n",
       "      <td>4903</td>\n",
       "      <td>Sed Beenum</td>\n",
       "      <td>1883. It nations, thereby avoiding armed confl...</td>\n",
       "    </tr>\n",
       "    <tr>\n",
       "      <th>4</th>\n",
       "      <td>259ccb80-f4db-4d1a-916a-7979d69a3cbd</td>\n",
       "      <td>offline</td>\n",
       "      <td>male</td>\n",
       "      <td>the.Belsou@peoper.ingic.com</td>\n",
       "      <td>66</td>\n",
       "      <td>1410</td>\n",
       "      <td>932</td>\n",
       "      <td>4161</td>\n",
       "      <td>199 Chand</td>\n",
       "      <td>Of its bodies, a form of government. Senators ...</td>\n",
       "    </tr>\n",
       "  </tbody>\n",
       "</table>\n",
       "</div>"
      ],
      "text/plain": [
       "                                     id     status  gender  \\\n",
       "0  f31d9ee9-9c41-4446-abd5-0094d65f5f92    offline    male   \n",
       "1  ffee8acb-f9ff-48dc-9532-c6dc47cfeee8  anonymous    male   \n",
       "2  46fc9083-7442-4887-86ac-5d4f78f1f8b1  anonymous  female   \n",
       "3  771685d0-ba4a-4c3b-abd0-2817ab6f1081     online  female   \n",
       "4  259ccb80-f4db-4d1a-916a-7979d69a3cbd    offline    male   \n",
       "\n",
       "                         email  age  messages  likes  retweets        name  \\\n",
       "0                int@puband.jp   74      4322   1646      1824    Sult Few   \n",
       "1          isidue429@Islati.ru   17       822   4245      2407     Bies Th   \n",
       "2               therna@cing.us   69      4010   4038      1109       An Of   \n",
       "3             edrom@upopor.biz   30       976   2838      4903  Sed Beenum   \n",
       "4  the.Belsou@peoper.ingic.com   66      1410    932      4161   199 Chand   \n",
       "\n",
       "                                        twitter post  \n",
       "0  Nomenclature differentiating by Claes Oldenbur...  \n",
       "1  Ada Yonath, critical in forensic investigation...  \n",
       "2  Snow fell St. Jean-Baptiste Day ceremony, and ...  \n",
       "3  1883. It nations, thereby avoiding armed confl...  \n",
       "4  Of its bodies, a form of government. Senators ...  "
      ]
     },
     "execution_count": 3,
     "metadata": {},
     "output_type": "execute_result"
    }
   ],
   "source": [
    "tw.head()"
   ]
  },
  {
   "cell_type": "code",
   "execution_count": 12,
   "id": "e2719a88-6ed3-4ae0-bc18-69ff630f9520",
   "metadata": {},
   "outputs": [
    {
     "data": {
      "text/plain": [
       "(50000, 10)"
      ]
     },
     "execution_count": 12,
     "metadata": {},
     "output_type": "execute_result"
    }
   ],
   "source": [
    "tw.shape"
   ]
  },
  {
   "cell_type": "code",
   "execution_count": 13,
   "id": "972a97a6-8353-437b-a64b-7120e6651663",
   "metadata": {},
   "outputs": [
    {
     "data": {
      "text/html": [
       "<div>\n",
       "<style scoped>\n",
       "    .dataframe tbody tr th:only-of-type {\n",
       "        vertical-align: middle;\n",
       "    }\n",
       "\n",
       "    .dataframe tbody tr th {\n",
       "        vertical-align: top;\n",
       "    }\n",
       "\n",
       "    .dataframe thead th {\n",
       "        text-align: right;\n",
       "    }\n",
       "</style>\n",
       "<table border=\"1\" class=\"dataframe\">\n",
       "  <thead>\n",
       "    <tr style=\"text-align: right;\">\n",
       "      <th></th>\n",
       "      <th>age</th>\n",
       "      <th>messages</th>\n",
       "      <th>likes</th>\n",
       "      <th>retweets</th>\n",
       "    </tr>\n",
       "  </thead>\n",
       "  <tbody>\n",
       "    <tr>\n",
       "      <th>count</th>\n",
       "      <td>50000.000000</td>\n",
       "      <td>50000.000000</td>\n",
       "      <td>50000.000000</td>\n",
       "      <td>50000.00000</td>\n",
       "    </tr>\n",
       "    <tr>\n",
       "      <th>mean</th>\n",
       "      <td>44.280000</td>\n",
       "      <td>2487.273260</td>\n",
       "      <td>2492.623440</td>\n",
       "      <td>2497.24998</td>\n",
       "    </tr>\n",
       "    <tr>\n",
       "      <th>std</th>\n",
       "      <td>20.190165</td>\n",
       "      <td>1436.927739</td>\n",
       "      <td>1441.685768</td>\n",
       "      <td>1446.25142</td>\n",
       "    </tr>\n",
       "    <tr>\n",
       "      <th>min</th>\n",
       "      <td>10.000000</td>\n",
       "      <td>0.000000</td>\n",
       "      <td>0.000000</td>\n",
       "      <td>0.00000</td>\n",
       "    </tr>\n",
       "    <tr>\n",
       "      <th>25%</th>\n",
       "      <td>27.000000</td>\n",
       "      <td>1256.000000</td>\n",
       "      <td>1240.000000</td>\n",
       "      <td>1238.00000</td>\n",
       "    </tr>\n",
       "    <tr>\n",
       "      <th>50%</th>\n",
       "      <td>44.000000</td>\n",
       "      <td>2471.500000</td>\n",
       "      <td>2484.000000</td>\n",
       "      <td>2503.00000</td>\n",
       "    </tr>\n",
       "    <tr>\n",
       "      <th>75%</th>\n",
       "      <td>62.000000</td>\n",
       "      <td>3729.000000</td>\n",
       "      <td>3734.000000</td>\n",
       "      <td>3749.00000</td>\n",
       "    </tr>\n",
       "    <tr>\n",
       "      <th>max</th>\n",
       "      <td>79.000000</td>\n",
       "      <td>4999.000000</td>\n",
       "      <td>4999.000000</td>\n",
       "      <td>4999.00000</td>\n",
       "    </tr>\n",
       "  </tbody>\n",
       "</table>\n",
       "</div>"
      ],
      "text/plain": [
       "                age      messages         likes     retweets\n",
       "count  50000.000000  50000.000000  50000.000000  50000.00000\n",
       "mean      44.280000   2487.273260   2492.623440   2497.24998\n",
       "std       20.190165   1436.927739   1441.685768   1446.25142\n",
       "min       10.000000      0.000000      0.000000      0.00000\n",
       "25%       27.000000   1256.000000   1240.000000   1238.00000\n",
       "50%       44.000000   2471.500000   2484.000000   2503.00000\n",
       "75%       62.000000   3729.000000   3734.000000   3749.00000\n",
       "max       79.000000   4999.000000   4999.000000   4999.00000"
      ]
     },
     "execution_count": 13,
     "metadata": {},
     "output_type": "execute_result"
    }
   ],
   "source": [
    "tw.describe()"
   ]
  },
  {
   "cell_type": "code",
   "execution_count": 15,
   "id": "ce05d51e-b327-47e5-a3f9-6c4c646e632d",
   "metadata": {},
   "outputs": [
    {
     "data": {
      "text/plain": [
       "50000"
      ]
     },
     "execution_count": 15,
     "metadata": {},
     "output_type": "execute_result"
    }
   ],
   "source": [
    "#Number of unique users\n",
    "tw.id.nunique()"
   ]
  },
  {
   "cell_type": "code",
   "execution_count": 18,
   "id": "4b272f3e-cce9-4817-a997-291cfbacc63b",
   "metadata": {},
   "outputs": [
    {
     "data": {
      "text/plain": [
       "online       16873\n",
       "anonymous    16618\n",
       "offline      16509\n",
       "Name: status, dtype: int64"
      ]
     },
     "execution_count": 18,
     "metadata": {},
     "output_type": "execute_result"
    }
   ],
   "source": [
    "tw.status.value_counts()"
   ]
  },
  {
   "cell_type": "code",
   "execution_count": 19,
   "id": "28142be2-f289-47df-b5f3-cd1420610166",
   "metadata": {},
   "outputs": [
    {
     "data": {
      "text/plain": [
       "female    25002\n",
       "male      24998\n",
       "Name: gender, dtype: int64"
      ]
     },
     "execution_count": 19,
     "metadata": {},
     "output_type": "execute_result"
    }
   ],
   "source": [
    "tw.gender.value_counts()"
   ]
  },
  {
   "cell_type": "code",
   "execution_count": 20,
   "id": "d4380109-322e-4a95-9659-2721df122749",
   "metadata": {},
   "outputs": [
    {
     "data": {
      "text/plain": [
       "70"
      ]
     },
     "execution_count": 20,
     "metadata": {},
     "output_type": "execute_result"
    }
   ],
   "source": [
    "tw.age.nunique()"
   ]
  },
  {
   "cell_type": "code",
   "execution_count": 23,
   "id": "8bf5366b-46cc-4a10-b551-21c0888c056c",
   "metadata": {},
   "outputs": [
    {
     "data": {
      "text/plain": [
       "46010"
      ]
     },
     "execution_count": 23,
     "metadata": {},
     "output_type": "execute_result"
    }
   ],
   "source": [
    "tw.name.nunique()"
   ]
  },
  {
   "cell_type": "code",
   "execution_count": 33,
   "id": "99b7300d-d29c-4724-9915-2e7a59e60374",
   "metadata": {},
   "outputs": [
    {
     "data": {
      "text/plain": [
       "50000"
      ]
     },
     "execution_count": 33,
     "metadata": {},
     "output_type": "execute_result"
    }
   ],
   "source": [
    "tw['twitter post'].nunique()"
   ]
  }
 ],
 "metadata": {
  "kernelspec": {
   "display_name": "Python 3 (ipykernel)",
   "language": "python",
   "name": "python3"
  },
  "language_info": {
   "codemirror_mode": {
    "name": "ipython",
    "version": 3
   },
   "file_extension": ".py",
   "mimetype": "text/x-python",
   "name": "python",
   "nbconvert_exporter": "python",
   "pygments_lexer": "ipython3",
   "version": "3.9.13"
  }
 },
 "nbformat": 4,
 "nbformat_minor": 5
}
